{
  "nbformat": 4,
  "nbformat_minor": 0,
  "metadata": {
    "colab": {
      "provenance": []
    },
    "kernelspec": {
      "name": "python3",
      "display_name": "Python 3"
    },
    "language_info": {
      "name": "python"
    }
  },
  "cells": [
    {
      "cell_type": "markdown",
      "source": [
        "#Import libraries"
      ],
      "metadata": {
        "id": "XO7vPSqFu17O"
      }
    },
    {
      "cell_type": "code",
      "execution_count": null,
      "metadata": {
        "id": "5YuGcXAKSEzp"
      },
      "outputs": [],
      "source": [
        "# import numpy, pandas and other necessary libraries\n",
        "import re\n",
        "import numpy as np\n",
        "import pandas as pd\n",
        "from sklearn.feature_extraction.text import CountVectorizer, TfidfTransformer"
      ]
    },
    {
      "cell_type": "code",
      "source": [
        "import zipfile\n",
        "from google.colab import drive\n",
        "\n",
        "drive.mount('/content/drive/')\n",
        "\n"
      ],
      "metadata": {
        "colab": {
          "base_uri": "https://localhost:8080/"
        },
        "id": "YiKdJePESSuK",
        "outputId": "d87b5641-7544-48e5-a76f-72abf822bef0"
      },
      "execution_count": null,
      "outputs": [
        {
          "output_type": "stream",
          "name": "stdout",
          "text": [
            "Mounted at /content/drive/\n"
          ]
        }
      ]
    },
    {
      "cell_type": "markdown",
      "source": [
        "#Preprocessing"
      ],
      "metadata": {
        "id": "RChTNehxu6ix"
      }
    },
    {
      "cell_type": "code",
      "source": [
        "data = pd.read_csv('/content/drive/MyDrive/US-accident/US_Accidents_Dec21_updated.csv')\n",
        "data.head()"
      ],
      "metadata": {
        "colab": {
          "base_uri": "https://localhost:8080/",
          "height": 421
        },
        "id": "FE-2NcFhSbPU",
        "outputId": "ee15edbd-9eb5-4fa9-b39b-336d5875e79b"
      },
      "execution_count": null,
      "outputs": [
        {
          "output_type": "execute_result",
          "data": {
            "text/plain": [
              "    ID  Severity           Start_Time             End_Time  Start_Lat  \\\n",
              "0  A-1         3  2016-02-08 00:37:08  2016-02-08 06:37:08  40.108910   \n",
              "1  A-2         2  2016-02-08 05:56:20  2016-02-08 11:56:20  39.865420   \n",
              "2  A-3         2  2016-02-08 06:15:39  2016-02-08 12:15:39  39.102660   \n",
              "3  A-4         2  2016-02-08 06:51:45  2016-02-08 12:51:45  41.062130   \n",
              "4  A-5         3  2016-02-08 07:53:43  2016-02-08 13:53:43  39.172393   \n",
              "\n",
              "   Start_Lng    End_Lat    End_Lng  Distance(mi)  \\\n",
              "0 -83.092860  40.112060 -83.031870         3.230   \n",
              "1 -84.062800  39.865010 -84.048730         0.747   \n",
              "2 -84.524680  39.102090 -84.523960         0.055   \n",
              "3 -81.537840  41.062170 -81.535470         0.123   \n",
              "4 -84.492792  39.170476 -84.501798         0.500   \n",
              "\n",
              "                                         Description  ...  Roundabout Station  \\\n",
              "0  Between Sawmill Rd/Exit 20 and OH-315/Olentang...  ...       False   False   \n",
              "1                 At OH-4/OH-235/Exit 41 - Accident.  ...       False   False   \n",
              "2                   At I-71/US-50/Exit 1 - Accident.  ...       False   False   \n",
              "3                    At Dart Ave/Exit 21 - Accident.  ...       False   False   \n",
              "4                 At Mitchell Ave/Exit 6 - Accident.  ...       False   False   \n",
              "\n",
              "    Stop Traffic_Calming Traffic_Signal Turning_Loop Sunrise_Sunset  \\\n",
              "0  False           False          False        False          Night   \n",
              "1  False           False          False        False          Night   \n",
              "2  False           False          False        False          Night   \n",
              "3  False           False          False        False          Night   \n",
              "4  False           False          False        False            Day   \n",
              "\n",
              "  Civil_Twilight Nautical_Twilight Astronomical_Twilight  \n",
              "0          Night             Night                 Night  \n",
              "1          Night             Night                 Night  \n",
              "2          Night             Night                   Day  \n",
              "3          Night               Day                   Day  \n",
              "4            Day               Day                   Day  \n",
              "\n",
              "[5 rows x 47 columns]"
            ],
            "text/html": [
              "\n",
              "  <div id=\"df-0a3391b1-1a0f-4955-9667-a60b412d9f7c\">\n",
              "    <div class=\"colab-df-container\">\n",
              "      <div>\n",
              "<style scoped>\n",
              "    .dataframe tbody tr th:only-of-type {\n",
              "        vertical-align: middle;\n",
              "    }\n",
              "\n",
              "    .dataframe tbody tr th {\n",
              "        vertical-align: top;\n",
              "    }\n",
              "\n",
              "    .dataframe thead th {\n",
              "        text-align: right;\n",
              "    }\n",
              "</style>\n",
              "<table border=\"1\" class=\"dataframe\">\n",
              "  <thead>\n",
              "    <tr style=\"text-align: right;\">\n",
              "      <th></th>\n",
              "      <th>ID</th>\n",
              "      <th>Severity</th>\n",
              "      <th>Start_Time</th>\n",
              "      <th>End_Time</th>\n",
              "      <th>Start_Lat</th>\n",
              "      <th>Start_Lng</th>\n",
              "      <th>End_Lat</th>\n",
              "      <th>End_Lng</th>\n",
              "      <th>Distance(mi)</th>\n",
              "      <th>Description</th>\n",
              "      <th>...</th>\n",
              "      <th>Roundabout</th>\n",
              "      <th>Station</th>\n",
              "      <th>Stop</th>\n",
              "      <th>Traffic_Calming</th>\n",
              "      <th>Traffic_Signal</th>\n",
              "      <th>Turning_Loop</th>\n",
              "      <th>Sunrise_Sunset</th>\n",
              "      <th>Civil_Twilight</th>\n",
              "      <th>Nautical_Twilight</th>\n",
              "      <th>Astronomical_Twilight</th>\n",
              "    </tr>\n",
              "  </thead>\n",
              "  <tbody>\n",
              "    <tr>\n",
              "      <th>0</th>\n",
              "      <td>A-1</td>\n",
              "      <td>3</td>\n",
              "      <td>2016-02-08 00:37:08</td>\n",
              "      <td>2016-02-08 06:37:08</td>\n",
              "      <td>40.108910</td>\n",
              "      <td>-83.092860</td>\n",
              "      <td>40.112060</td>\n",
              "      <td>-83.031870</td>\n",
              "      <td>3.230</td>\n",
              "      <td>Between Sawmill Rd/Exit 20 and OH-315/Olentang...</td>\n",
              "      <td>...</td>\n",
              "      <td>False</td>\n",
              "      <td>False</td>\n",
              "      <td>False</td>\n",
              "      <td>False</td>\n",
              "      <td>False</td>\n",
              "      <td>False</td>\n",
              "      <td>Night</td>\n",
              "      <td>Night</td>\n",
              "      <td>Night</td>\n",
              "      <td>Night</td>\n",
              "    </tr>\n",
              "    <tr>\n",
              "      <th>1</th>\n",
              "      <td>A-2</td>\n",
              "      <td>2</td>\n",
              "      <td>2016-02-08 05:56:20</td>\n",
              "      <td>2016-02-08 11:56:20</td>\n",
              "      <td>39.865420</td>\n",
              "      <td>-84.062800</td>\n",
              "      <td>39.865010</td>\n",
              "      <td>-84.048730</td>\n",
              "      <td>0.747</td>\n",
              "      <td>At OH-4/OH-235/Exit 41 - Accident.</td>\n",
              "      <td>...</td>\n",
              "      <td>False</td>\n",
              "      <td>False</td>\n",
              "      <td>False</td>\n",
              "      <td>False</td>\n",
              "      <td>False</td>\n",
              "      <td>False</td>\n",
              "      <td>Night</td>\n",
              "      <td>Night</td>\n",
              "      <td>Night</td>\n",
              "      <td>Night</td>\n",
              "    </tr>\n",
              "    <tr>\n",
              "      <th>2</th>\n",
              "      <td>A-3</td>\n",
              "      <td>2</td>\n",
              "      <td>2016-02-08 06:15:39</td>\n",
              "      <td>2016-02-08 12:15:39</td>\n",
              "      <td>39.102660</td>\n",
              "      <td>-84.524680</td>\n",
              "      <td>39.102090</td>\n",
              "      <td>-84.523960</td>\n",
              "      <td>0.055</td>\n",
              "      <td>At I-71/US-50/Exit 1 - Accident.</td>\n",
              "      <td>...</td>\n",
              "      <td>False</td>\n",
              "      <td>False</td>\n",
              "      <td>False</td>\n",
              "      <td>False</td>\n",
              "      <td>False</td>\n",
              "      <td>False</td>\n",
              "      <td>Night</td>\n",
              "      <td>Night</td>\n",
              "      <td>Night</td>\n",
              "      <td>Day</td>\n",
              "    </tr>\n",
              "    <tr>\n",
              "      <th>3</th>\n",
              "      <td>A-4</td>\n",
              "      <td>2</td>\n",
              "      <td>2016-02-08 06:51:45</td>\n",
              "      <td>2016-02-08 12:51:45</td>\n",
              "      <td>41.062130</td>\n",
              "      <td>-81.537840</td>\n",
              "      <td>41.062170</td>\n",
              "      <td>-81.535470</td>\n",
              "      <td>0.123</td>\n",
              "      <td>At Dart Ave/Exit 21 - Accident.</td>\n",
              "      <td>...</td>\n",
              "      <td>False</td>\n",
              "      <td>False</td>\n",
              "      <td>False</td>\n",
              "      <td>False</td>\n",
              "      <td>False</td>\n",
              "      <td>False</td>\n",
              "      <td>Night</td>\n",
              "      <td>Night</td>\n",
              "      <td>Day</td>\n",
              "      <td>Day</td>\n",
              "    </tr>\n",
              "    <tr>\n",
              "      <th>4</th>\n",
              "      <td>A-5</td>\n",
              "      <td>3</td>\n",
              "      <td>2016-02-08 07:53:43</td>\n",
              "      <td>2016-02-08 13:53:43</td>\n",
              "      <td>39.172393</td>\n",
              "      <td>-84.492792</td>\n",
              "      <td>39.170476</td>\n",
              "      <td>-84.501798</td>\n",
              "      <td>0.500</td>\n",
              "      <td>At Mitchell Ave/Exit 6 - Accident.</td>\n",
              "      <td>...</td>\n",
              "      <td>False</td>\n",
              "      <td>False</td>\n",
              "      <td>False</td>\n",
              "      <td>False</td>\n",
              "      <td>False</td>\n",
              "      <td>False</td>\n",
              "      <td>Day</td>\n",
              "      <td>Day</td>\n",
              "      <td>Day</td>\n",
              "      <td>Day</td>\n",
              "    </tr>\n",
              "  </tbody>\n",
              "</table>\n",
              "<p>5 rows × 47 columns</p>\n",
              "</div>\n",
              "      <button class=\"colab-df-convert\" onclick=\"convertToInteractive('df-0a3391b1-1a0f-4955-9667-a60b412d9f7c')\"\n",
              "              title=\"Convert this dataframe to an interactive table.\"\n",
              "              style=\"display:none;\">\n",
              "        \n",
              "  <svg xmlns=\"http://www.w3.org/2000/svg\" height=\"24px\"viewBox=\"0 0 24 24\"\n",
              "       width=\"24px\">\n",
              "    <path d=\"M0 0h24v24H0V0z\" fill=\"none\"/>\n",
              "    <path d=\"M18.56 5.44l.94 2.06.94-2.06 2.06-.94-2.06-.94-.94-2.06-.94 2.06-2.06.94zm-11 1L8.5 8.5l.94-2.06 2.06-.94-2.06-.94L8.5 2.5l-.94 2.06-2.06.94zm10 10l.94 2.06.94-2.06 2.06-.94-2.06-.94-.94-2.06-.94 2.06-2.06.94z\"/><path d=\"M17.41 7.96l-1.37-1.37c-.4-.4-.92-.59-1.43-.59-.52 0-1.04.2-1.43.59L10.3 9.45l-7.72 7.72c-.78.78-.78 2.05 0 2.83L4 21.41c.39.39.9.59 1.41.59.51 0 1.02-.2 1.41-.59l7.78-7.78 2.81-2.81c.8-.78.8-2.07 0-2.86zM5.41 20L4 18.59l7.72-7.72 1.47 1.35L5.41 20z\"/>\n",
              "  </svg>\n",
              "      </button>\n",
              "      \n",
              "  <style>\n",
              "    .colab-df-container {\n",
              "      display:flex;\n",
              "      flex-wrap:wrap;\n",
              "      gap: 12px;\n",
              "    }\n",
              "\n",
              "    .colab-df-convert {\n",
              "      background-color: #E8F0FE;\n",
              "      border: none;\n",
              "      border-radius: 50%;\n",
              "      cursor: pointer;\n",
              "      display: none;\n",
              "      fill: #1967D2;\n",
              "      height: 32px;\n",
              "      padding: 0 0 0 0;\n",
              "      width: 32px;\n",
              "    }\n",
              "\n",
              "    .colab-df-convert:hover {\n",
              "      background-color: #E2EBFA;\n",
              "      box-shadow: 0px 1px 2px rgba(60, 64, 67, 0.3), 0px 1px 3px 1px rgba(60, 64, 67, 0.15);\n",
              "      fill: #174EA6;\n",
              "    }\n",
              "\n",
              "    [theme=dark] .colab-df-convert {\n",
              "      background-color: #3B4455;\n",
              "      fill: #D2E3FC;\n",
              "    }\n",
              "\n",
              "    [theme=dark] .colab-df-convert:hover {\n",
              "      background-color: #434B5C;\n",
              "      box-shadow: 0px 1px 3px 1px rgba(0, 0, 0, 0.15);\n",
              "      filter: drop-shadow(0px 1px 2px rgba(0, 0, 0, 0.3));\n",
              "      fill: #FFFFFF;\n",
              "    }\n",
              "  </style>\n",
              "\n",
              "      <script>\n",
              "        const buttonEl =\n",
              "          document.querySelector('#df-0a3391b1-1a0f-4955-9667-a60b412d9f7c button.colab-df-convert');\n",
              "        buttonEl.style.display =\n",
              "          google.colab.kernel.accessAllowed ? 'block' : 'none';\n",
              "\n",
              "        async function convertToInteractive(key) {\n",
              "          const element = document.querySelector('#df-0a3391b1-1a0f-4955-9667-a60b412d9f7c');\n",
              "          const dataTable =\n",
              "            await google.colab.kernel.invokeFunction('convertToInteractive',\n",
              "                                                     [key], {});\n",
              "          if (!dataTable) return;\n",
              "\n",
              "          const docLinkHtml = 'Like what you see? Visit the ' +\n",
              "            '<a target=\"_blank\" href=https://colab.research.google.com/notebooks/data_table.ipynb>data table notebook</a>'\n",
              "            + ' to learn more about interactive tables.';\n",
              "          element.innerHTML = '';\n",
              "          dataTable['output_type'] = 'display_data';\n",
              "          await google.colab.output.renderOutput(dataTable, element);\n",
              "          const docLink = document.createElement('div');\n",
              "          docLink.innerHTML = docLinkHtml;\n",
              "          element.appendChild(docLink);\n",
              "        }\n",
              "      </script>\n",
              "    </div>\n",
              "  </div>\n",
              "  "
            ]
          },
          "metadata": {},
          "execution_count": 5
        }
      ]
    },
    {
      "cell_type": "code",
      "source": [
        "data.info()"
      ],
      "metadata": {
        "colab": {
          "base_uri": "https://localhost:8080/"
        },
        "id": "zTu2IKpzS45G",
        "outputId": "b4a1aa0d-6ac6-4c19-ca53-c499b9d6d003"
      },
      "execution_count": null,
      "outputs": [
        {
          "output_type": "stream",
          "name": "stdout",
          "text": [
            "<class 'pandas.core.frame.DataFrame'>\n",
            "RangeIndex: 2845342 entries, 0 to 2845341\n",
            "Data columns (total 47 columns):\n",
            " #   Column                 Dtype  \n",
            "---  ------                 -----  \n",
            " 0   ID                     object \n",
            " 1   Severity               int64  \n",
            " 2   Start_Time             object \n",
            " 3   End_Time               object \n",
            " 4   Start_Lat              float64\n",
            " 5   Start_Lng              float64\n",
            " 6   End_Lat                float64\n",
            " 7   End_Lng                float64\n",
            " 8   Distance(mi)           float64\n",
            " 9   Description            object \n",
            " 10  Number                 float64\n",
            " 11  Street                 object \n",
            " 12  Side                   object \n",
            " 13  City                   object \n",
            " 14  County                 object \n",
            " 15  State                  object \n",
            " 16  Zipcode                object \n",
            " 17  Country                object \n",
            " 18  Timezone               object \n",
            " 19  Airport_Code           object \n",
            " 20  Weather_Timestamp      object \n",
            " 21  Temperature(F)         float64\n",
            " 22  Wind_Chill(F)          float64\n",
            " 23  Humidity(%)            float64\n",
            " 24  Pressure(in)           float64\n",
            " 25  Visibility(mi)         float64\n",
            " 26  Wind_Direction         object \n",
            " 27  Wind_Speed(mph)        float64\n",
            " 28  Precipitation(in)      float64\n",
            " 29  Weather_Condition      object \n",
            " 30  Amenity                bool   \n",
            " 31  Bump                   bool   \n",
            " 32  Crossing               bool   \n",
            " 33  Give_Way               bool   \n",
            " 34  Junction               bool   \n",
            " 35  No_Exit                bool   \n",
            " 36  Railway                bool   \n",
            " 37  Roundabout             bool   \n",
            " 38  Station                bool   \n",
            " 39  Stop                   bool   \n",
            " 40  Traffic_Calming        bool   \n",
            " 41  Traffic_Signal         bool   \n",
            " 42  Turning_Loop           bool   \n",
            " 43  Sunrise_Sunset         object \n",
            " 44  Civil_Twilight         object \n",
            " 45  Nautical_Twilight      object \n",
            " 46  Astronomical_Twilight  object \n",
            "dtypes: bool(13), float64(13), int64(1), object(20)\n",
            "memory usage: 773.4+ MB\n"
          ]
        }
      ]
    },
    {
      "cell_type": "code",
      "source": [
        "# Displaying the number of missing values per attribute\n",
        "\n",
        "print('Percentage of Missing values:\\n\\n',(100*data.isnull().sum()/data.shape[0]).round(2))"
      ],
      "metadata": {
        "colab": {
          "base_uri": "https://localhost:8080/"
        },
        "id": "-l0_gzkqTJ3v",
        "outputId": "31afc228-a7fc-4af6-8b8f-c79845930f7c"
      },
      "execution_count": null,
      "outputs": [
        {
          "output_type": "stream",
          "name": "stdout",
          "text": [
            "Percentage of Missing values:\n",
            "\n",
            " ID                        0.00\n",
            "Severity                  0.00\n",
            "Start_Time                0.00\n",
            "End_Time                  0.00\n",
            "Start_Lat                 0.00\n",
            "Start_Lng                 0.00\n",
            "End_Lat                   0.00\n",
            "End_Lng                   0.00\n",
            "Distance(mi)              0.00\n",
            "Description               0.00\n",
            "Number                   61.29\n",
            "Street                    0.00\n",
            "Side                      0.00\n",
            "City                      0.00\n",
            "County                    0.00\n",
            "State                     0.00\n",
            "Zipcode                   0.05\n",
            "Country                   0.00\n",
            "Timezone                  0.13\n",
            "Airport_Code              0.34\n",
            "Weather_Timestamp         1.78\n",
            "Temperature(F)            2.43\n",
            "Wind_Chill(F)            16.51\n",
            "Humidity(%)               2.57\n",
            "Pressure(in)              2.08\n",
            "Visibility(mi)            2.48\n",
            "Wind_Direction            2.59\n",
            "Wind_Speed(mph)           5.55\n",
            "Precipitation(in)        19.31\n",
            "Weather_Condition         2.48\n",
            "Amenity                   0.00\n",
            "Bump                      0.00\n",
            "Crossing                  0.00\n",
            "Give_Way                  0.00\n",
            "Junction                  0.00\n",
            "No_Exit                   0.00\n",
            "Railway                   0.00\n",
            "Roundabout                0.00\n",
            "Station                   0.00\n",
            "Stop                      0.00\n",
            "Traffic_Calming           0.00\n",
            "Traffic_Signal            0.00\n",
            "Turning_Loop              0.00\n",
            "Sunrise_Sunset            0.10\n",
            "Civil_Twilight            0.10\n",
            "Nautical_Twilight         0.10\n",
            "Astronomical_Twilight     0.10\n",
            "dtype: float64\n"
          ]
        }
      ]
    },
    {
      "cell_type": "code",
      "source": [
        "#Displaying the number of unique values per attribute\n",
        "\n",
        "print('Unique values per column :',data.nunique())\n",
        "\n"
      ],
      "metadata": {
        "colab": {
          "base_uri": "https://localhost:8080/"
        },
        "id": "q-uKnmlFTeSK",
        "outputId": "3b8f55a7-0d05-45f2-8c47-b6d99e5a4bc4"
      },
      "execution_count": null,
      "outputs": [
        {
          "output_type": "stream",
          "name": "stdout",
          "text": [
            "Unique values per column : ID                       2845342\n",
            "Severity                       4\n",
            "Start_Time               1959333\n",
            "End_Time                 2351505\n",
            "Start_Lat                1093618\n",
            "Start_Lng                1120365\n",
            "End_Lat                  1080811\n",
            "End_Lng                  1105404\n",
            "Distance(mi)               14165\n",
            "Description              1174563\n",
            "Number                     46402\n",
            "Street                    159651\n",
            "Side                           3\n",
            "City                       11681\n",
            "County                      1707\n",
            "State                         49\n",
            "Zipcode                   363085\n",
            "Country                        1\n",
            "Timezone                       4\n",
            "Airport_Code                2004\n",
            "Weather_Timestamp         474214\n",
            "Temperature(F)               788\n",
            "Wind_Chill(F)                897\n",
            "Humidity(%)                  100\n",
            "Pressure(in)                1068\n",
            "Visibility(mi)                76\n",
            "Wind_Direction                24\n",
            "Wind_Speed(mph)              136\n",
            "Precipitation(in)            230\n",
            "Weather_Condition            127\n",
            "Amenity                        2\n",
            "Bump                           2\n",
            "Crossing                       2\n",
            "Give_Way                       2\n",
            "Junction                       2\n",
            "No_Exit                        2\n",
            "Railway                        2\n",
            "Roundabout                     2\n",
            "Station                        2\n",
            "Stop                           2\n",
            "Traffic_Calming                2\n",
            "Traffic_Signal                 2\n",
            "Turning_Loop                   1\n",
            "Sunrise_Sunset                 2\n",
            "Civil_Twilight                 2\n",
            "Nautical_Twilight              2\n",
            "Astronomical_Twilight          2\n",
            "dtype: int64\n"
          ]
        }
      ]
    },
    {
      "cell_type": "code",
      "source": [
        "# Removing the attributes from the dataset\n",
        "\n",
        "data.drop(columns=['Number'], inplace=True)"
      ],
      "metadata": {
        "id": "NPgzXlPST6az"
      },
      "execution_count": null,
      "outputs": []
    },
    {
      "cell_type": "code",
      "source": [
        "# Setting 'Wind_Speed(mph)' as 0 for rows where 'Wind_Direction' is 'Calm', meaning almost no wind.\n",
        "\n",
        "data.loc[data['Wind_Direction'] == 'Calm', 'Wind_Speed(mph)'] = 0"
      ],
      "metadata": {
        "id": "W436ar3JwsVe"
      },
      "execution_count": null,
      "outputs": []
    },
    {
      "cell_type": "code",
      "source": [
        "#replace nan with median for precipitation\n",
        "data['Precipitation_NA'] = 0\n",
        "data.loc[data['Precipitation(in)'].isnull(),'Precipitation_NA'] = 1\n",
        "data['Precipitation(in)'] = data['Precipitation(in)'].fillna(data['Precipitation(in)'].median())\n",
        "data.loc[:5,['Precipitation(in)','Precipitation_NA']]"
      ],
      "metadata": {
        "colab": {
          "base_uri": "https://localhost:8080/",
          "height": 238
        },
        "id": "-EqicHpixJVY",
        "outputId": "dd135d12-7ba0-4cba-b342-0e8c73b46096"
      },
      "execution_count": null,
      "outputs": [
        {
          "output_type": "execute_result",
          "data": {
            "text/plain": [
              "   Precipitation(in)  Precipitation_NA\n",
              "0               0.00                 0\n",
              "1               0.02                 0\n",
              "2               0.02                 0\n",
              "3               0.00                 0\n",
              "4               0.01                 0\n",
              "5               0.00                 0"
            ],
            "text/html": [
              "\n",
              "  <div id=\"df-4f0265e6-1824-4b17-b9f9-13696b045014\">\n",
              "    <div class=\"colab-df-container\">\n",
              "      <div>\n",
              "<style scoped>\n",
              "    .dataframe tbody tr th:only-of-type {\n",
              "        vertical-align: middle;\n",
              "    }\n",
              "\n",
              "    .dataframe tbody tr th {\n",
              "        vertical-align: top;\n",
              "    }\n",
              "\n",
              "    .dataframe thead th {\n",
              "        text-align: right;\n",
              "    }\n",
              "</style>\n",
              "<table border=\"1\" class=\"dataframe\">\n",
              "  <thead>\n",
              "    <tr style=\"text-align: right;\">\n",
              "      <th></th>\n",
              "      <th>Precipitation(in)</th>\n",
              "      <th>Precipitation_NA</th>\n",
              "    </tr>\n",
              "  </thead>\n",
              "  <tbody>\n",
              "    <tr>\n",
              "      <th>0</th>\n",
              "      <td>0.00</td>\n",
              "      <td>0</td>\n",
              "    </tr>\n",
              "    <tr>\n",
              "      <th>1</th>\n",
              "      <td>0.02</td>\n",
              "      <td>0</td>\n",
              "    </tr>\n",
              "    <tr>\n",
              "      <th>2</th>\n",
              "      <td>0.02</td>\n",
              "      <td>0</td>\n",
              "    </tr>\n",
              "    <tr>\n",
              "      <th>3</th>\n",
              "      <td>0.00</td>\n",
              "      <td>0</td>\n",
              "    </tr>\n",
              "    <tr>\n",
              "      <th>4</th>\n",
              "      <td>0.01</td>\n",
              "      <td>0</td>\n",
              "    </tr>\n",
              "    <tr>\n",
              "      <th>5</th>\n",
              "      <td>0.00</td>\n",
              "      <td>0</td>\n",
              "    </tr>\n",
              "  </tbody>\n",
              "</table>\n",
              "</div>\n",
              "      <button class=\"colab-df-convert\" onclick=\"convertToInteractive('df-4f0265e6-1824-4b17-b9f9-13696b045014')\"\n",
              "              title=\"Convert this dataframe to an interactive table.\"\n",
              "              style=\"display:none;\">\n",
              "        \n",
              "  <svg xmlns=\"http://www.w3.org/2000/svg\" height=\"24px\"viewBox=\"0 0 24 24\"\n",
              "       width=\"24px\">\n",
              "    <path d=\"M0 0h24v24H0V0z\" fill=\"none\"/>\n",
              "    <path d=\"M18.56 5.44l.94 2.06.94-2.06 2.06-.94-2.06-.94-.94-2.06-.94 2.06-2.06.94zm-11 1L8.5 8.5l.94-2.06 2.06-.94-2.06-.94L8.5 2.5l-.94 2.06-2.06.94zm10 10l.94 2.06.94-2.06 2.06-.94-2.06-.94-.94-2.06-.94 2.06-2.06.94z\"/><path d=\"M17.41 7.96l-1.37-1.37c-.4-.4-.92-.59-1.43-.59-.52 0-1.04.2-1.43.59L10.3 9.45l-7.72 7.72c-.78.78-.78 2.05 0 2.83L4 21.41c.39.39.9.59 1.41.59.51 0 1.02-.2 1.41-.59l7.78-7.78 2.81-2.81c.8-.78.8-2.07 0-2.86zM5.41 20L4 18.59l7.72-7.72 1.47 1.35L5.41 20z\"/>\n",
              "  </svg>\n",
              "      </button>\n",
              "      \n",
              "  <style>\n",
              "    .colab-df-container {\n",
              "      display:flex;\n",
              "      flex-wrap:wrap;\n",
              "      gap: 12px;\n",
              "    }\n",
              "\n",
              "    .colab-df-convert {\n",
              "      background-color: #E8F0FE;\n",
              "      border: none;\n",
              "      border-radius: 50%;\n",
              "      cursor: pointer;\n",
              "      display: none;\n",
              "      fill: #1967D2;\n",
              "      height: 32px;\n",
              "      padding: 0 0 0 0;\n",
              "      width: 32px;\n",
              "    }\n",
              "\n",
              "    .colab-df-convert:hover {\n",
              "      background-color: #E2EBFA;\n",
              "      box-shadow: 0px 1px 2px rgba(60, 64, 67, 0.3), 0px 1px 3px 1px rgba(60, 64, 67, 0.15);\n",
              "      fill: #174EA6;\n",
              "    }\n",
              "\n",
              "    [theme=dark] .colab-df-convert {\n",
              "      background-color: #3B4455;\n",
              "      fill: #D2E3FC;\n",
              "    }\n",
              "\n",
              "    [theme=dark] .colab-df-convert:hover {\n",
              "      background-color: #434B5C;\n",
              "      box-shadow: 0px 1px 3px 1px rgba(0, 0, 0, 0.15);\n",
              "      filter: drop-shadow(0px 1px 2px rgba(0, 0, 0, 0.3));\n",
              "      fill: #FFFFFF;\n",
              "    }\n",
              "  </style>\n",
              "\n",
              "      <script>\n",
              "        const buttonEl =\n",
              "          document.querySelector('#df-4f0265e6-1824-4b17-b9f9-13696b045014 button.colab-df-convert');\n",
              "        buttonEl.style.display =\n",
              "          google.colab.kernel.accessAllowed ? 'block' : 'none';\n",
              "\n",
              "        async function convertToInteractive(key) {\n",
              "          const element = document.querySelector('#df-4f0265e6-1824-4b17-b9f9-13696b045014');\n",
              "          const dataTable =\n",
              "            await google.colab.kernel.invokeFunction('convertToInteractive',\n",
              "                                                     [key], {});\n",
              "          if (!dataTable) return;\n",
              "\n",
              "          const docLinkHtml = 'Like what you see? Visit the ' +\n",
              "            '<a target=\"_blank\" href=https://colab.research.google.com/notebooks/data_table.ipynb>data table notebook</a>'\n",
              "            + ' to learn more about interactive tables.';\n",
              "          element.innerHTML = '';\n",
              "          dataTable['output_type'] = 'display_data';\n",
              "          await google.colab.output.renderOutput(dataTable, element);\n",
              "          const docLink = document.createElement('div');\n",
              "          docLink.innerHTML = docLinkHtml;\n",
              "          element.appendChild(docLink);\n",
              "        }\n",
              "      </script>\n",
              "    </div>\n",
              "  </div>\n",
              "  "
            ]
          },
          "metadata": {},
          "execution_count": 14
        }
      ]
    },
    {
      "cell_type": "code",
      "source": [
        "#replace nan with median for wind_Chill\n",
        "data['wind_chill_na'] = 0\n",
        "data.loc[data['Wind_Chill(F)'].isnull(),'wind_chill_na'] = 1\n",
        "data['Wind_Chill(F)'] = data['Wind_Chill(F)'].fillna(data['Wind_Chill(F)'].median())\n",
        "data.loc[:5,['Wind_Chill(F)','wind_chill_na']]"
      ],
      "metadata": {
        "colab": {
          "base_uri": "https://localhost:8080/",
          "height": 238
        },
        "id": "FKhc8K_FyHDN",
        "outputId": "c4fea5a8-11d1-4944-cee3-e4642cb3a7a6"
      },
      "execution_count": null,
      "outputs": [
        {
          "output_type": "execute_result",
          "data": {
            "text/plain": [
              "   Wind_Chill(F)  wind_chill_na\n",
              "0           36.1              0\n",
              "1           63.0              1\n",
              "2           63.0              1\n",
              "3           63.0              1\n",
              "4           29.8              0\n",
              "5           29.2              0"
            ],
            "text/html": [
              "\n",
              "  <div id=\"df-8b434ae6-9caf-40ed-9567-d694fba192ff\">\n",
              "    <div class=\"colab-df-container\">\n",
              "      <div>\n",
              "<style scoped>\n",
              "    .dataframe tbody tr th:only-of-type {\n",
              "        vertical-align: middle;\n",
              "    }\n",
              "\n",
              "    .dataframe tbody tr th {\n",
              "        vertical-align: top;\n",
              "    }\n",
              "\n",
              "    .dataframe thead th {\n",
              "        text-align: right;\n",
              "    }\n",
              "</style>\n",
              "<table border=\"1\" class=\"dataframe\">\n",
              "  <thead>\n",
              "    <tr style=\"text-align: right;\">\n",
              "      <th></th>\n",
              "      <th>Wind_Chill(F)</th>\n",
              "      <th>wind_chill_na</th>\n",
              "    </tr>\n",
              "  </thead>\n",
              "  <tbody>\n",
              "    <tr>\n",
              "      <th>0</th>\n",
              "      <td>36.1</td>\n",
              "      <td>0</td>\n",
              "    </tr>\n",
              "    <tr>\n",
              "      <th>1</th>\n",
              "      <td>63.0</td>\n",
              "      <td>1</td>\n",
              "    </tr>\n",
              "    <tr>\n",
              "      <th>2</th>\n",
              "      <td>63.0</td>\n",
              "      <td>1</td>\n",
              "    </tr>\n",
              "    <tr>\n",
              "      <th>3</th>\n",
              "      <td>63.0</td>\n",
              "      <td>1</td>\n",
              "    </tr>\n",
              "    <tr>\n",
              "      <th>4</th>\n",
              "      <td>29.8</td>\n",
              "      <td>0</td>\n",
              "    </tr>\n",
              "    <tr>\n",
              "      <th>5</th>\n",
              "      <td>29.2</td>\n",
              "      <td>0</td>\n",
              "    </tr>\n",
              "  </tbody>\n",
              "</table>\n",
              "</div>\n",
              "      <button class=\"colab-df-convert\" onclick=\"convertToInteractive('df-8b434ae6-9caf-40ed-9567-d694fba192ff')\"\n",
              "              title=\"Convert this dataframe to an interactive table.\"\n",
              "              style=\"display:none;\">\n",
              "        \n",
              "  <svg xmlns=\"http://www.w3.org/2000/svg\" height=\"24px\"viewBox=\"0 0 24 24\"\n",
              "       width=\"24px\">\n",
              "    <path d=\"M0 0h24v24H0V0z\" fill=\"none\"/>\n",
              "    <path d=\"M18.56 5.44l.94 2.06.94-2.06 2.06-.94-2.06-.94-.94-2.06-.94 2.06-2.06.94zm-11 1L8.5 8.5l.94-2.06 2.06-.94-2.06-.94L8.5 2.5l-.94 2.06-2.06.94zm10 10l.94 2.06.94-2.06 2.06-.94-2.06-.94-.94-2.06-.94 2.06-2.06.94z\"/><path d=\"M17.41 7.96l-1.37-1.37c-.4-.4-.92-.59-1.43-.59-.52 0-1.04.2-1.43.59L10.3 9.45l-7.72 7.72c-.78.78-.78 2.05 0 2.83L4 21.41c.39.39.9.59 1.41.59.51 0 1.02-.2 1.41-.59l7.78-7.78 2.81-2.81c.8-.78.8-2.07 0-2.86zM5.41 20L4 18.59l7.72-7.72 1.47 1.35L5.41 20z\"/>\n",
              "  </svg>\n",
              "      </button>\n",
              "      \n",
              "  <style>\n",
              "    .colab-df-container {\n",
              "      display:flex;\n",
              "      flex-wrap:wrap;\n",
              "      gap: 12px;\n",
              "    }\n",
              "\n",
              "    .colab-df-convert {\n",
              "      background-color: #E8F0FE;\n",
              "      border: none;\n",
              "      border-radius: 50%;\n",
              "      cursor: pointer;\n",
              "      display: none;\n",
              "      fill: #1967D2;\n",
              "      height: 32px;\n",
              "      padding: 0 0 0 0;\n",
              "      width: 32px;\n",
              "    }\n",
              "\n",
              "    .colab-df-convert:hover {\n",
              "      background-color: #E2EBFA;\n",
              "      box-shadow: 0px 1px 2px rgba(60, 64, 67, 0.3), 0px 1px 3px 1px rgba(60, 64, 67, 0.15);\n",
              "      fill: #174EA6;\n",
              "    }\n",
              "\n",
              "    [theme=dark] .colab-df-convert {\n",
              "      background-color: #3B4455;\n",
              "      fill: #D2E3FC;\n",
              "    }\n",
              "\n",
              "    [theme=dark] .colab-df-convert:hover {\n",
              "      background-color: #434B5C;\n",
              "      box-shadow: 0px 1px 3px 1px rgba(0, 0, 0, 0.15);\n",
              "      filter: drop-shadow(0px 1px 2px rgba(0, 0, 0, 0.3));\n",
              "      fill: #FFFFFF;\n",
              "    }\n",
              "  </style>\n",
              "\n",
              "      <script>\n",
              "        const buttonEl =\n",
              "          document.querySelector('#df-8b434ae6-9caf-40ed-9567-d694fba192ff button.colab-df-convert');\n",
              "        buttonEl.style.display =\n",
              "          google.colab.kernel.accessAllowed ? 'block' : 'none';\n",
              "\n",
              "        async function convertToInteractive(key) {\n",
              "          const element = document.querySelector('#df-8b434ae6-9caf-40ed-9567-d694fba192ff');\n",
              "          const dataTable =\n",
              "            await google.colab.kernel.invokeFunction('convertToInteractive',\n",
              "                                                     [key], {});\n",
              "          if (!dataTable) return;\n",
              "\n",
              "          const docLinkHtml = 'Like what you see? Visit the ' +\n",
              "            '<a target=\"_blank\" href=https://colab.research.google.com/notebooks/data_table.ipynb>data table notebook</a>'\n",
              "            + ' to learn more about interactive tables.';\n",
              "          element.innerHTML = '';\n",
              "          dataTable['output_type'] = 'display_data';\n",
              "          await google.colab.output.renderOutput(dataTable, element);\n",
              "          const docLink = document.createElement('div');\n",
              "          docLink.innerHTML = docLinkHtml;\n",
              "          element.appendChild(docLink);\n",
              "        }\n",
              "      </script>\n",
              "    </div>\n",
              "  </div>\n",
              "  "
            ]
          },
          "metadata": {},
          "execution_count": 13
        }
      ]
    },
    {
      "cell_type": "code",
      "source": [
        "data.dropna(inplace=True)"
      ],
      "metadata": {
        "id": "UkQ1APAtyUmH"
      },
      "execution_count": null,
      "outputs": []
    },
    {
      "cell_type": "code",
      "source": [
        "# Converting datatype for attributes related to datetime.\n",
        "\n",
        "data[\"Start_Time\"]= pd.to_datetime(data[\"Start_Time\"])\n",
        "data[\"End_Time\"]= pd.to_datetime(data[\"End_Time\"])\n",
        "data[\"Weather_Timestamp\"]= pd.to_datetime(data[\"Weather_Timestamp\"])"
      ],
      "metadata": {
        "id": "vVYeUPmtzQck"
      },
      "execution_count": null,
      "outputs": []
    },
    {
      "cell_type": "code",
      "source": [
        "# average difference between weather time and start time\n",
        "print(\"Mean difference between 'Start_Time' and 'Weather_Timestamp': \",\n",
        "(data.Weather_Timestamp - data.Start_Time).mean())\n",
        "\n"
      ],
      "metadata": {
        "colab": {
          "base_uri": "https://localhost:8080/"
        },
        "id": "Gdm6BJvuydjk",
        "outputId": "47e7c988-fa76-4af7-c918-739da693978a"
      },
      "execution_count": null,
      "outputs": [
        {
          "output_type": "stream",
          "name": "stdout",
          "text": [
            "Mean difference between 'Start_Time' and 'Weather_Timestamp':  0 days 00:01:10.419258574\n"
          ]
        }
      ]
    },
    {
      "cell_type": "code",
      "source": [
        "data = data.drop([\"Weather_Timestamp\"], axis=1)"
      ],
      "metadata": {
        "id": "Td1WT0N8zB-C"
      },
      "execution_count": null,
      "outputs": []
    },
    {
      "cell_type": "code",
      "source": [
        "# Checking the percentage of Duplicate records in the dataset\n",
        "\n",
        "print(f'Percentage of duplicate records: {100-(100*data.drop_duplicates().shape[0]/data.shape[0])}')"
      ],
      "metadata": {
        "colab": {
          "base_uri": "https://localhost:8080/"
        },
        "id": "GY1tD5E3zcLM",
        "outputId": "cc1a6375-35fb-4a69-b3b5-9242d98ac16d"
      },
      "execution_count": null,
      "outputs": [
        {
          "output_type": "stream",
          "name": "stdout",
          "text": [
            "Percentage of duplicate records: 0.0\n"
          ]
        }
      ]
    },
    {
      "cell_type": "code",
      "source": [
        "# Adding consistency to the various wind speed direction values\n",
        "\n",
        "data['Wind_Direction'].replace({'North': 'N'}, inplace=True)\n",
        "data['Wind_Direction'].replace({'East': 'E'}, inplace=True)\n",
        "data['Wind_Direction'].replace({'West': 'W'}, inplace=True)\n",
        "data['Wind_Direction'].replace({'South': 'S'}, inplace=True)\n",
        "data['Wind_Direction'].replace({'VAR': 'Variable'}, inplace=True)\n",
        "data['Wind_Direction'].replace({'CALM': 'Calm'}, inplace=True)\n",
        "\n",
        "data['Wind_Direction'].unique()\n",
        "\n"
      ],
      "metadata": {
        "colab": {
          "base_uri": "https://localhost:8080/"
        },
        "id": "R6cOGn8izic8",
        "outputId": "0db16c41-c214-4466-cc0b-c65aa08109d0"
      },
      "execution_count": null,
      "outputs": [
        {
          "output_type": "execute_result",
          "data": {
            "text/plain": [
              "array(['SW', 'Calm', 'WSW', 'WNW', 'W', 'NNW', 'S', 'NW', 'N', 'SSE',\n",
              "       'SSW', 'ESE', 'SE', 'E', 'Variable', 'NNE', 'NE', 'ENE'],\n",
              "      dtype=object)"
            ]
          },
          "metadata": {},
          "execution_count": 23
        }
      ]
    },
    {
      "cell_type": "code",
      "source": [
        "# 'End_Time' should always be greater than 'Start_Time'\n",
        "\n",
        "data.drop(data[data['End_Time']<data['Start_Time']].index, inplace=True)\n",
        "\n"
      ],
      "metadata": {
        "id": "xBdnlnpVzwbc"
      },
      "execution_count": null,
      "outputs": []
    },
    {
      "cell_type": "code",
      "source": [
        "#check catergorical features\n",
        "cat_names = ['Side', 'Country', 'Timezone', 'Amenity', 'Bump', 'Crossing',\n",
        "             'Give_Way', 'Junction', 'No_Exit', 'Railway', 'Roundabout', 'Station',\n",
        "             'Stop', 'Traffic_Calming', 'Traffic_Signal', 'Turning_Loop', 'Sunrise_Sunset',\n",
        "             'Civil_Twilight', 'Nautical_Twilight', 'Astronomical_Twilight']\n",
        "print(\"Unique count of categorical features:\")\n",
        "for i in cat_names:\n",
        "  print(i,data[i].unique().size)"
      ],
      "metadata": {
        "id": "izsDTaHU29Ya"
      },
      "execution_count": null,
      "outputs": []
    },
    {
      "cell_type": "code",
      "source": [
        "data = data.drop(['Country','Turning_Loop', 'ID'], axis=1)"
      ],
      "metadata": {
        "id": "f834tZ0mz4ZT"
      },
      "execution_count": null,
      "outputs": []
    },
    {
      "cell_type": "code",
      "source": [
        "# Deriving the attribute 'Time_Duration(min)'\n",
        "\n",
        "data.insert(4,'Time_Duration(min)',(data['End_Time']-data['Start_Time'])//np.timedelta64(1,'m'))"
      ],
      "metadata": {
        "id": "ANQyjqPq0J2Q"
      },
      "execution_count": null,
      "outputs": []
    },
    {
      "cell_type": "code",
      "source": [
        "data['Time_Duration(min)'].describe()"
      ],
      "metadata": {
        "colab": {
          "base_uri": "https://localhost:8080/"
        },
        "id": "cRMWX3Ld0RYt",
        "outputId": "7f661b3c-1553-4d1e-85d4-0e5ae08fea4e"
      },
      "execution_count": null,
      "outputs": [
        {
          "output_type": "execute_result",
          "data": {
            "text/plain": [
              "count    2.731064e+06\n",
              "mean     3.548349e+02\n",
              "std      9.260334e+03\n",
              "min      2.000000e+00\n",
              "25%      7.300000e+01\n",
              "50%      1.200000e+02\n",
              "75%      2.230000e+02\n",
              "max      1.682579e+06\n",
              "Name: Time_Duration(min), dtype: float64"
            ]
          },
          "metadata": {},
          "execution_count": 27
        }
      ]
    },
    {
      "cell_type": "code",
      "source": [
        "# Dropping the attribute 'End_Time' since it is redundant now\n",
        "\n",
        "data.drop(columns=['End_Time'], inplace=True)"
      ],
      "metadata": {
        "id": "eUw349ik0TmM"
      },
      "execution_count": null,
      "outputs": []
    },
    {
      "cell_type": "code",
      "source": [
        "# Breaking 'Start_Time' into 'Year', 'Month', 'Day', 'Hour' and 'Weekend'\n",
        "\n",
        "data['Year']=data['Start_Time'].dt.year\n",
        "data['Month']=data['Start_Time'].dt.month\n",
        "data['Day']=data['Start_Time'].dt.day\n",
        "data['Hour']=data['Start_Time'].dt.hour\n",
        "data['Minute']=data['Start_Time'].dt.minute\n",
        "data['Weekday']=data['Start_Time'].dt.weekday\n",
        "\n",
        "def weekday_text(w):\n",
        "    d = {0:'Monday', 1:'Tuesday', 2:'Wednesday', 3:'Thursday', 4:'Friday', 5:'Saturday', 6:'Sunday'}\n",
        "    return d[w]\n",
        "data['Weekday']=data['Weekday'].apply(lambda x:weekday_text(x))"
      ],
      "metadata": {
        "id": "Ju4RBUn90W6_"
      },
      "execution_count": null,
      "outputs": []
    },
    {
      "cell_type": "code",
      "source": [
        "# Dropping the attribute 'Start_Time' since it is redundant now\n",
        "\n",
        "data.drop(columns=['Start_Time'], inplace=True)"
      ],
      "metadata": {
        "id": "U7VLj1Rq0brP"
      },
      "execution_count": null,
      "outputs": []
    },
    {
      "cell_type": "code",
      "source": [
        "# Removing outliers | Time_Duration\n",
        "# Removing records stating duration more than 12 days (since higher than 12 days is not recorded yet)\n",
        "\n",
        "data.drop(data[data['Time_Duration(min)'] > (12*1440)].index, inplace=True)"
      ],
      "metadata": {
        "id": "_7e9-s2U2mzt"
      },
      "execution_count": null,
      "outputs": []
    },
    {
      "cell_type": "code",
      "source": [
        "# Removing outliers | Wind_Speed(mph)\n",
        "# Removing records wind speed more than 260 mph (since higher than ~253mph is not recorded yet)\n",
        "\n",
        "data.drop(data[data['Wind_Speed(mph)'] > 260].index, inplace=True)"
      ],
      "metadata": {
        "id": "0dd6GulY3RfC"
      },
      "execution_count": null,
      "outputs": []
    },
    {
      "cell_type": "code",
      "source": [
        "# Removing outliers | Distance(mi)\n",
        "# Removing records distance(mi) more than 109 miles (since higher than ~109 miles is not recorded yet)\n",
        "\n",
        "data.drop(data[data['Distance(mi)'] > 109].index, inplace=True)\n",
        "\n",
        "\n"
      ],
      "metadata": {
        "id": "tak2xr0T3Tjn"
      },
      "execution_count": null,
      "outputs": []
    },
    {
      "cell_type": "code",
      "source": [
        "# Removing outliers | Temperature(F)\n",
        "# Removing records temperature(f) more than 131.4 mph (since higher than ~134.1 F is not recorded yet)\n",
        "\n",
        "data.drop(data[data['Temperature(F)'] > 134.1].index, inplace=True)\n",
        "\n"
      ],
      "metadata": {
        "id": "YYZs9obl3Vib"
      },
      "execution_count": null,
      "outputs": []
    },
    {
      "cell_type": "code",
      "source": [
        "# Removing outliers | Pressure(in)\n",
        "# Removing records pressure(in) less than 25.69 (since lesser than ~25.69 is not recorded yet)\n",
        "# Removing records pressure(in) more than 32.03 (since higher than ~32.03 is not recorded yet)\n",
        "\n",
        "data.drop(data[data['Pressure(in)'] < 25.69].index, inplace=True)\n",
        "data.drop(data[data['Pressure(in)'] > 32.03].index, inplace=True)\n",
        "\n"
      ],
      "metadata": {
        "id": "n__12iB53Xoc"
      },
      "execution_count": null,
      "outputs": []
    },
    {
      "cell_type": "code",
      "source": [
        "# Removing outliers | Wind_Speed(mph)\n",
        "# Removing records visibility(mi) more than 150 miles (since higher than ~150 miles is not recorded yet)\n",
        "\n",
        "data.drop(data[data['Visibility(mi)'] > 150].index, inplace=True)"
      ],
      "metadata": {
        "id": "6DV33t5L3bVl"
      },
      "execution_count": null,
      "outputs": []
    },
    {
      "cell_type": "code",
      "source": [
        "# Checking if none of the value is NaN and all of the values are finite and saving to file\n",
        "\n",
        "if data.notnull().values.all() and not data.isnull().values.any():\n",
        "    data.to_csv(\"/content/drive/MyDrive/US-accident-data\", index=False)\n",
        "    print('Data Saved')\n",
        "else:\n",
        "    print('Data Not Saved')"
      ],
      "metadata": {
        "colab": {
          "base_uri": "https://localhost:8080/"
        },
        "id": "PiwPnbxB3eJs",
        "outputId": "ee7f2c07-1363-4c4e-d892-5bc8a011a137"
      },
      "execution_count": null,
      "outputs": [
        {
          "output_type": "stream",
          "name": "stdout",
          "text": [
            "Data Saved\n"
          ]
        }
      ]
    },
    {
      "cell_type": "code",
      "source": [
        "# List of selected attributes based upon fast availability of attributes, considering:\n",
        "# 2. the non repetition of information (e.g. Complete Address + Zipcode)\n",
        "\n",
        "cols = [\n",
        "        'Severity', 'Start_Lat', 'Start_Lng', 'Temperature(F)',\n",
        "        'Humidity(%)', 'Pressure(in)', 'Visibility(mi)', 'Wind_Direction', 'Wind_Speed(mph)', 'Weather_Condition',\n",
        "        'Amenity', 'Bump', 'Crossing', 'Give_Way', 'Junction', 'No_Exit', 'Railway','Roundabout', 'Station',\n",
        "        'Stop', 'Traffic_Calming', 'Traffic_Signal', 'Sunrise_Sunset', 'Civil_Twilight',\n",
        "        'Year', 'Month', 'Day', 'Hour', 'Minute','Weekday',\n",
        "        'Street', 'Side', 'City', 'County','Description'\n",
        "]"
      ],
      "metadata": {
        "id": "AU3X2oy5302b"
      },
      "execution_count": null,
      "outputs": []
    },
    {
      "cell_type": "code",
      "source": [
        "# Saving the top state specific dataset to disk and freeing up RAM before building model\n",
        "\n",
        "# State CA\n",
        "data[data['State']=='CA'][cols].to_csv(\"/content/drive/MyDrive/US-accident-data_CA\", index=False)\n"
      ],
      "metadata": {
        "id": "MBwDlxGP4HPV"
      },
      "execution_count": null,
      "outputs": []
    },
    {
      "cell_type": "code",
      "source": [],
      "metadata": {
        "id": "ejVcdtvF4Mrq"
      },
      "execution_count": null,
      "outputs": []
    }
  ]
}